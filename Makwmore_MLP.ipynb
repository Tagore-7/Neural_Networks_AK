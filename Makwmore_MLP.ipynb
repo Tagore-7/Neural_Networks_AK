{
  "nbformat": 4,
  "nbformat_minor": 0,
  "metadata": {
    "colab": {
      "provenance": [],
      "authorship_tag": "ABX9TyMG+OlD17zQaGuoQF+C59Tg",
      "include_colab_link": true
    },
    "kernelspec": {
      "name": "python3",
      "display_name": "Python 3"
    },
    "language_info": {
      "name": "python"
    }
  },
  "cells": [
    {
      "cell_type": "markdown",
      "metadata": {
        "id": "view-in-github",
        "colab_type": "text"
      },
      "source": [
        "<a href=\"https://colab.research.google.com/github/Tagore-7/Neural_Networks_AK/blob/main/Makwmore_MLP.ipynb\" target=\"_parent\"><img src=\"https://colab.research.google.com/assets/colab-badge.svg\" alt=\"Open In Colab\"/></a>"
      ]
    },
    {
      "cell_type": "code",
      "execution_count": 5,
      "metadata": {
        "id": "Rnx-L1gf6lz6"
      },
      "outputs": [],
      "source": [
        "import torch\n",
        "import torch.nn.functional as F\n",
        "import matplotlib.pyplot as plt\n",
        "%matplotlib inline"
      ]
    },
    {
      "cell_type": "code",
      "source": [
        "### read all the words(names)\n",
        "words = open('names.txt', 'r').read().splitlines()\n",
        "words[:8]"
      ],
      "metadata": {
        "colab": {
          "base_uri": "https://localhost:8080/"
        },
        "id": "gB3B-sbo7Arc",
        "outputId": "c270738e-e2e7-4b64-f417-8545f8dad8c7"
      },
      "execution_count": 6,
      "outputs": [
        {
          "output_type": "execute_result",
          "data": {
            "text/plain": [
              "['emma', 'olivia', 'ava', 'isabella', 'sophia', 'charlotte', 'mia', 'amelia']"
            ]
          },
          "metadata": {},
          "execution_count": 6
        }
      ]
    },
    {
      "cell_type": "code",
      "source": [
        "len(words)"
      ],
      "metadata": {
        "colab": {
          "base_uri": "https://localhost:8080/"
        },
        "id": "zOf4uPXf7TeH",
        "outputId": "d42b0417-94ab-4d94-c9dc-80cfc0fc9090"
      },
      "execution_count": 7,
      "outputs": [
        {
          "output_type": "execute_result",
          "data": {
            "text/plain": [
              "32033"
            ]
          },
          "metadata": {},
          "execution_count": 7
        }
      ]
    },
    {
      "cell_type": "code",
      "source": [
        "### build the vocabulary of characters and mappings to/from integers\n",
        "chars = sorted(list(set(\"\".join(words))))\n",
        "print(chars)"
      ],
      "metadata": {
        "colab": {
          "base_uri": "https://localhost:8080/"
        },
        "id": "KvD5ZHDB7VB9",
        "outputId": "e88e589d-beba-4696-9a49-cd6b08d45d75"
      },
      "execution_count": 8,
      "outputs": [
        {
          "output_type": "stream",
          "name": "stdout",
          "text": [
            "['a', 'b', 'c', 'd', 'e', 'f', 'g', 'h', 'i', 'j', 'k', 'l', 'm', 'n', 'o', 'p', 'q', 'r', 's', 't', 'u', 'v', 'w', 'x', 'y', 'z']\n"
          ]
        }
      ]
    },
    {
      "cell_type": "code",
      "source": [
        "stoi = {s: i+1 for i, s in enumerate(chars)}\n",
        "print(stoi)"
      ],
      "metadata": {
        "colab": {
          "base_uri": "https://localhost:8080/"
        },
        "id": "VQ2YjvFA7tzh",
        "outputId": "fcb00cae-b495-4c68-c3ad-6777245b2d7e"
      },
      "execution_count": 9,
      "outputs": [
        {
          "output_type": "stream",
          "name": "stdout",
          "text": [
            "{'a': 1, 'b': 2, 'c': 3, 'd': 4, 'e': 5, 'f': 6, 'g': 7, 'h': 8, 'i': 9, 'j': 10, 'k': 11, 'l': 12, 'm': 13, 'n': 14, 'o': 15, 'p': 16, 'q': 17, 'r': 18, 's': 19, 't': 20, 'u': 21, 'v': 22, 'w': 23, 'x': 24, 'y': 25, 'z': 26}\n"
          ]
        }
      ]
    },
    {
      "cell_type": "code",
      "source": [
        "stoi[\".\"] = 0\n",
        "print(stoi)"
      ],
      "metadata": {
        "colab": {
          "base_uri": "https://localhost:8080/"
        },
        "id": "JXNVGdl97xki",
        "outputId": "986ab517-db09-4325-b149-a1df18631876"
      },
      "execution_count": 10,
      "outputs": [
        {
          "output_type": "stream",
          "name": "stdout",
          "text": [
            "{'a': 1, 'b': 2, 'c': 3, 'd': 4, 'e': 5, 'f': 6, 'g': 7, 'h': 8, 'i': 9, 'j': 10, 'k': 11, 'l': 12, 'm': 13, 'n': 14, 'o': 15, 'p': 16, 'q': 17, 'r': 18, 's': 19, 't': 20, 'u': 21, 'v': 22, 'w': 23, 'x': 24, 'y': 25, 'z': 26, '.': 0}\n"
          ]
        }
      ]
    },
    {
      "cell_type": "code",
      "source": [
        "itos = {i:s for s, i in stoi.items()}\n",
        "print(itos)"
      ],
      "metadata": {
        "colab": {
          "base_uri": "https://localhost:8080/"
        },
        "id": "L9YKWSvQ8PEC",
        "outputId": "132af1b4-dbff-4ea6-ec8a-d2c32311bbbd"
      },
      "execution_count": 11,
      "outputs": [
        {
          "output_type": "stream",
          "name": "stdout",
          "text": [
            "{1: 'a', 2: 'b', 3: 'c', 4: 'd', 5: 'e', 6: 'f', 7: 'g', 8: 'h', 9: 'i', 10: 'j', 11: 'k', 12: 'l', 13: 'm', 14: 'n', 15: 'o', 16: 'p', 17: 'q', 18: 'r', 19: 's', 20: 't', 21: 'u', 22: 'v', 23: 'w', 24: 'x', 25: 'y', 26: 'z', 0: '.'}\n"
          ]
        }
      ]
    },
    {
      "cell_type": "code",
      "source": [
        "### building the dataset\n",
        "block_size = 3 ### context length = how many characters are we taking to predict the next one\n",
        "X, Y = [], [] ### X - inputs to the neural net, Y - labels of the inputs (examples in the X)\n",
        "\n",
        "for w in words: ### let's do it for first 5 words\n",
        "  # print(w)\n",
        "  context = [0] * block_size\n",
        "  # print(context)\n",
        "  for ch in w + \".\":\n",
        "    # print(ch)\n",
        "    ix = stoi[ch]\n",
        "    # print(ix)\n",
        "    X.append(context)\n",
        "    # print(len(X))\n",
        "    # print(context)\n",
        "    Y.append(ix)\n",
        "    # print(Y)\n",
        "    # print(itos[ix])\n",
        "    # print(\"\".join(itos[i] for i in context), \"----->\" , itos[ix])\n",
        "    context = context[1:] + [ix] ### crop and append\n",
        "\n",
        "X = torch.tensor(X)\n",
        "Y = torch.tensor(Y)"
      ],
      "metadata": {
        "id": "bixYhBDK8ds3"
      },
      "execution_count": 12,
      "outputs": []
    },
    {
      "cell_type": "code",
      "source": [
        "C = torch.randn((27,2))\n",
        "C"
      ],
      "metadata": {
        "colab": {
          "base_uri": "https://localhost:8080/"
        },
        "id": "PnTdXYKy8uHH",
        "outputId": "2ab9e0f6-d751-4bf7-e7b2-7e629f1e824a"
      },
      "execution_count": 13,
      "outputs": [
        {
          "output_type": "execute_result",
          "data": {
            "text/plain": [
              "tensor([[-0.1835, -1.3502],\n",
              "        [ 0.0710,  1.8949],\n",
              "        [ 0.0620,  0.6755],\n",
              "        [ 0.8837, -1.8082],\n",
              "        [ 0.2160,  2.3610],\n",
              "        [-0.5822, -0.6515],\n",
              "        [-0.7781,  0.1038],\n",
              "        [-0.6788,  0.3405],\n",
              "        [-1.1582, -1.4285],\n",
              "        [-0.2916, -0.3734],\n",
              "        [-0.3193, -0.2897],\n",
              "        [ 0.9098, -2.3185],\n",
              "        [ 0.5518, -1.4792],\n",
              "        [-0.1531, -0.2100],\n",
              "        [ 0.2553, -0.5445],\n",
              "        [-0.6501, -0.7940],\n",
              "        [ 1.4725,  1.0598],\n",
              "        [ 1.2143, -0.1119],\n",
              "        [-1.5510, -2.9873],\n",
              "        [ 0.0468, -0.7865],\n",
              "        [ 1.7123,  1.1977],\n",
              "        [-1.0997,  1.9167],\n",
              "        [-0.3034,  0.3103],\n",
              "        [-1.0220, -0.5918],\n",
              "        [ 0.2245, -0.3256],\n",
              "        [ 0.0924, -0.7932],\n",
              "        [-0.2606, -0.2945]])"
            ]
          },
          "metadata": {},
          "execution_count": 13
        }
      ]
    },
    {
      "cell_type": "code",
      "source": [
        "emb = C[X]\n",
        "emb.shape"
      ],
      "metadata": {
        "colab": {
          "base_uri": "https://localhost:8080/"
        },
        "id": "GcAwIX2o8uDq",
        "outputId": "feb457f2-31a9-4ec2-b829-59bfd2e03dd7"
      },
      "execution_count": 14,
      "outputs": [
        {
          "output_type": "execute_result",
          "data": {
            "text/plain": [
              "torch.Size([228146, 3, 2])"
            ]
          },
          "metadata": {},
          "execution_count": 14
        }
      ]
    },
    {
      "cell_type": "code",
      "source": [
        "W1 = torch.rand((6,100)) ## weights\n",
        "b1 = torch.randn((100))  ### biases"
      ],
      "metadata": {
        "id": "q_dF9Vrj8uBe"
      },
      "execution_count": 15,
      "outputs": []
    },
    {
      "cell_type": "code",
      "source": [
        "# emb @ W1 + b1 ## doesn't wokr matrix mismatch\n",
        "torch.cat([emb[:,0,:], emb[:,1,:],emb[:,2,:]], 1).shape  ## solution"
      ],
      "metadata": {
        "colab": {
          "base_uri": "https://localhost:8080/"
        },
        "id": "A-WY8TPh8t_X",
        "outputId": "e3f0833b-94f7-44d6-bcb4-f0e24c635cbe"
      },
      "execution_count": 16,
      "outputs": [
        {
          "output_type": "execute_result",
          "data": {
            "text/plain": [
              "torch.Size([228146, 6])"
            ]
          },
          "metadata": {},
          "execution_count": 16
        }
      ]
    },
    {
      "cell_type": "code",
      "source": [
        "torch.cat(torch.unbind(emb,1),1).shape  ## another solution"
      ],
      "metadata": {
        "colab": {
          "base_uri": "https://localhost:8080/"
        },
        "id": "FXqYXMFJ8t9R",
        "outputId": "d9772339-cb99-4c1e-8783-7bf16927927b"
      },
      "execution_count": 17,
      "outputs": [
        {
          "output_type": "execute_result",
          "data": {
            "text/plain": [
              "torch.Size([228146, 6])"
            ]
          },
          "metadata": {},
          "execution_count": 17
        }
      ]
    },
    {
      "cell_type": "code",
      "source": [
        "a = torch.arange(18)\n",
        "a"
      ],
      "metadata": {
        "colab": {
          "base_uri": "https://localhost:8080/"
        },
        "id": "FlMJiIHV8t7D",
        "outputId": "da333753-e718-404c-de35-4529b1e20a12"
      },
      "execution_count": 18,
      "outputs": [
        {
          "output_type": "execute_result",
          "data": {
            "text/plain": [
              "tensor([ 0,  1,  2,  3,  4,  5,  6,  7,  8,  9, 10, 11, 12, 13, 14, 15, 16, 17])"
            ]
          },
          "metadata": {},
          "execution_count": 18
        }
      ]
    },
    {
      "cell_type": "code",
      "source": [
        "a.shape"
      ],
      "metadata": {
        "colab": {
          "base_uri": "https://localhost:8080/"
        },
        "id": "si-_o2vC8t42",
        "outputId": "be00e6a1-9c30-433f-95f2-f8da2eddabdb"
      },
      "execution_count": 19,
      "outputs": [
        {
          "output_type": "execute_result",
          "data": {
            "text/plain": [
              "torch.Size([18])"
            ]
          },
          "metadata": {},
          "execution_count": 19
        }
      ]
    },
    {
      "cell_type": "code",
      "source": [
        "a.view(3,3,2) ## can chahnge shape"
      ],
      "metadata": {
        "colab": {
          "base_uri": "https://localhost:8080/"
        },
        "id": "L7x9knZV8t2a",
        "outputId": "1136f09e-9901-4b56-f395-2b28520cda1a"
      },
      "execution_count": 20,
      "outputs": [
        {
          "output_type": "execute_result",
          "data": {
            "text/plain": [
              "tensor([[[ 0,  1],\n",
              "         [ 2,  3],\n",
              "         [ 4,  5]],\n",
              "\n",
              "        [[ 6,  7],\n",
              "         [ 8,  9],\n",
              "         [10, 11]],\n",
              "\n",
              "        [[12, 13],\n",
              "         [14, 15],\n",
              "         [16, 17]]])"
            ]
          },
          "metadata": {},
          "execution_count": 20
        }
      ]
    },
    {
      "cell_type": "code",
      "source": [
        "emb.shape"
      ],
      "metadata": {
        "colab": {
          "base_uri": "https://localhost:8080/"
        },
        "id": "xcGQsj708t0N",
        "outputId": "a2b0a225-1a68-479f-f1ed-16e1e0d2e457"
      },
      "execution_count": 21,
      "outputs": [
        {
          "output_type": "execute_result",
          "data": {
            "text/plain": [
              "torch.Size([228146, 3, 2])"
            ]
          },
          "metadata": {},
          "execution_count": 21
        }
      ]
    },
    {
      "cell_type": "code",
      "source": [
        "# emb.view(32,6) == torch.cat(torch.unbind(emb,1),1) ## view gives same as exact as concat"
      ],
      "metadata": {
        "id": "B5f80bxD8tyC"
      },
      "execution_count": 22,
      "outputs": []
    },
    {
      "cell_type": "code",
      "source": [
        "# h = emb.view(32,6) @ W1 + b1 ### hidden states weights"
      ],
      "metadata": {
        "id": "fKkHZqr68tvw"
      },
      "execution_count": 23,
      "outputs": []
    },
    {
      "cell_type": "code",
      "source": [
        "# h.shape"
      ],
      "metadata": {
        "id": "llnjWaLA8tth"
      },
      "execution_count": 24,
      "outputs": []
    },
    {
      "cell_type": "code",
      "source": [
        "# h"
      ],
      "metadata": {
        "id": "vzTYf5U58trN"
      },
      "execution_count": 25,
      "outputs": []
    },
    {
      "cell_type": "code",
      "source": [
        "h = emb.view(-1,6) @ W1 + b1  ## -1 get's you shape so you don't have to hardcode\n",
        "# h"
      ],
      "metadata": {
        "id": "IeCRyHOR8tow"
      },
      "execution_count": 26,
      "outputs": []
    },
    {
      "cell_type": "code",
      "source": [
        "# h = torch.tanh(emb.view(-1,6) @ W1 + b1 ) ### activation tanh"
      ],
      "metadata": {
        "id": "iP_0y3Rh8hXs"
      },
      "execution_count": 27,
      "outputs": []
    },
    {
      "cell_type": "code",
      "source": [
        "# h"
      ],
      "metadata": {
        "id": "NfwgKZe4T7IU"
      },
      "execution_count": 28,
      "outputs": []
    },
    {
      "cell_type": "code",
      "source": [
        "# 32 , 100\n",
        "# 1, 100  brodacasting always check it"
      ],
      "metadata": {
        "id": "JHfQ0TI1T7j3"
      },
      "execution_count": 29,
      "outputs": []
    },
    {
      "cell_type": "code",
      "source": [
        "W2 = torch.randn((100,27))\n",
        "b2 = torch.randn(27)"
      ],
      "metadata": {
        "id": "ZRGynYULUQv6"
      },
      "execution_count": 30,
      "outputs": []
    },
    {
      "cell_type": "code",
      "source": [
        "logits = h @ W2 + b2\n",
        "logits.shape"
      ],
      "metadata": {
        "colab": {
          "base_uri": "https://localhost:8080/"
        },
        "id": "IeeVCxY1US02",
        "outputId": "4c214dfc-ac8f-4361-b1c1-d97960de9828"
      },
      "execution_count": 31,
      "outputs": [
        {
          "output_type": "execute_result",
          "data": {
            "text/plain": [
              "torch.Size([228146, 27])"
            ]
          },
          "metadata": {},
          "execution_count": 31
        }
      ]
    },
    {
      "cell_type": "code",
      "source": [
        "counts = logits.exp()"
      ],
      "metadata": {
        "id": "oMlYk-hqUSuM"
      },
      "execution_count": 32,
      "outputs": []
    },
    {
      "cell_type": "code",
      "source": [
        "prob = counts / counts.sum(1, keepdims=True)"
      ],
      "metadata": {
        "id": "XAse33AMUSqq"
      },
      "execution_count": 33,
      "outputs": []
    },
    {
      "cell_type": "code",
      "source": [
        "prob.shape"
      ],
      "metadata": {
        "colab": {
          "base_uri": "https://localhost:8080/"
        },
        "id": "JqppZkl_USn7",
        "outputId": "b1d07390-b8e0-4dc3-e6b8-2d48365b51b6"
      },
      "execution_count": 34,
      "outputs": [
        {
          "output_type": "execute_result",
          "data": {
            "text/plain": [
              "torch.Size([228146, 27])"
            ]
          },
          "metadata": {},
          "execution_count": 34
        }
      ]
    },
    {
      "cell_type": "code",
      "source": [
        "# loss = -prob[torch.arange(32), Y].log().mean()\n",
        "# loss"
      ],
      "metadata": {
        "id": "PKx1RxDhUSks"
      },
      "execution_count": 35,
      "outputs": []
    },
    {
      "cell_type": "code",
      "source": [
        "parameters = [C, W1, b1, W2, b2]\n",
        "sum(p.nelement() for p in parameters)"
      ],
      "metadata": {
        "colab": {
          "base_uri": "https://localhost:8080/"
        },
        "id": "-JTB_2q0UShn",
        "outputId": "d1fee7e6-869d-4ac4-8fd2-741880206e27"
      },
      "execution_count": 36,
      "outputs": [
        {
          "output_type": "execute_result",
          "data": {
            "text/plain": [
              "3481"
            ]
          },
          "metadata": {},
          "execution_count": 36
        }
      ]
    },
    {
      "cell_type": "code",
      "source": [
        "loss = F.cross_entropy(logits, Y)\n",
        "loss"
      ],
      "metadata": {
        "colab": {
          "base_uri": "https://localhost:8080/"
        },
        "id": "60lWUvxUUSd6",
        "outputId": "7670d5f6-5976-45ee-c002-d1ba7f0b91bf"
      },
      "execution_count": 37,
      "outputs": [
        {
          "output_type": "execute_result",
          "data": {
            "text/plain": [
              "tensor(43.2029)"
            ]
          },
          "metadata": {},
          "execution_count": 37
        }
      ]
    },
    {
      "cell_type": "code",
      "source": [
        "len(words)"
      ],
      "metadata": {
        "colab": {
          "base_uri": "https://localhost:8080/"
        },
        "id": "yhZDSLrB22jW",
        "outputId": "1acfef5a-f422-4caa-f664-c7bf80c004d7"
      },
      "execution_count": 38,
      "outputs": [
        {
          "output_type": "execute_result",
          "data": {
            "text/plain": [
              "32033"
            ]
          },
          "metadata": {},
          "execution_count": 38
        }
      ]
    },
    {
      "cell_type": "code",
      "source": [
        "chars = sorted(list(set(\"\".join(words))))\n",
        "stoi = {s: i+1 for i, s in enumerate(chars)}\n",
        "stoi['.'] = 0\n",
        "itos = {i:s for s,i in stoi.items()}\n",
        "print(itos)"
      ],
      "metadata": {
        "colab": {
          "base_uri": "https://localhost:8080/"
        },
        "id": "xoqUHKMs3N7u",
        "outputId": "2de76542-d26c-4259-d559-b9cf25e8d5ac"
      },
      "execution_count": 39,
      "outputs": [
        {
          "output_type": "stream",
          "name": "stdout",
          "text": [
            "{1: 'a', 2: 'b', 3: 'c', 4: 'd', 5: 'e', 6: 'f', 7: 'g', 8: 'h', 9: 'i', 10: 'j', 11: 'k', 12: 'l', 13: 'm', 14: 'n', 15: 'o', 16: 'p', 17: 'q', 18: 'r', 19: 's', 20: 't', 21: 'u', 22: 'v', 23: 'w', 24: 'x', 25: 'y', 26: 'z', 0: '.'}\n"
          ]
        }
      ]
    },
    {
      "cell_type": "code",
      "source": [
        "## training split , dev/ validation split , test split\n",
        "# 80 %, 10 %, 10 %"
      ],
      "metadata": {
        "id": "1k7GvTawUSP6"
      },
      "execution_count": 46,
      "outputs": []
    },
    {
      "cell_type": "code",
      "source": [
        "### building the dataset\n",
        "block_size = 3 ### context length = how many characters are we taking to predict the next one\n",
        "\n",
        "def build_dataset(words):\n",
        "  X, Y = [],[]\n",
        "  for w in words:\n",
        "    context = [0] * block_size\n",
        "    for ch in w +\".\":\n",
        "      ix = stoi[ch]\n",
        "      X.append(context)\n",
        "      Y.append(ix)\n",
        "      context = context[1:] + [ix]\n",
        "\n",
        "  X = torch.tensor(X)\n",
        "  Y = torch.tensor(Y)\n",
        "  print(X.shape, Y.shape)\n",
        "  return X, Y\n",
        "\n",
        "import random\n",
        "random.seed(42)\n",
        "n1 = int(0.8 * len(words))\n",
        "n2 = int(0.9 * (len(words)))\n",
        "\n",
        "Xtr, Ytr = build_dataset(words[:n1])\n",
        "Xdev, Ydev = build_dataset(words[n1:n2])\n",
        "Xte, Yte = build_dataset(words[n2:])\n",
        "\n",
        "\n"
      ],
      "metadata": {
        "colab": {
          "base_uri": "https://localhost:8080/"
        },
        "id": "0cXMchM701zm",
        "outputId": "e88e551e-7528-49d3-ee0d-9bae38590b93"
      },
      "execution_count": 52,
      "outputs": [
        {
          "output_type": "stream",
          "name": "stdout",
          "text": [
            "torch.Size([182778, 3]) torch.Size([182778])\n",
            "torch.Size([22633, 3]) torch.Size([22633])\n",
            "torch.Size([22735, 3]) torch.Size([22735])\n"
          ]
        }
      ]
    },
    {
      "cell_type": "code",
      "source": [
        "g = torch.Generator().manual_seed(2147483647)\n",
        "C = torch.randn((27,10), generator=g)\n",
        "W1 = torch.randn((30,200), generator= g)\n",
        "b1 = torch.randn((200), generator=g)\n",
        "W2 = torch.randn((200, 27), generator = g)\n",
        "b2 = torch.randn(27, generator = g)\n",
        "parameters = [C, W1, b1, W2, b2]"
      ],
      "metadata": {
        "id": "r-jMV8ZwUSa_"
      },
      "execution_count": 53,
      "outputs": []
    },
    {
      "cell_type": "code",
      "source": [
        "for p in parameters:\n",
        "  p.requires_grad = True"
      ],
      "metadata": {
        "id": "bWyYnKulUSYQ"
      },
      "execution_count": 54,
      "outputs": []
    },
    {
      "cell_type": "code",
      "source": [
        "lre = torch.linspace(-3,0,1000)\n",
        "lrs = 10**lre"
      ],
      "metadata": {
        "id": "AVwH97Vmu7KK"
      },
      "execution_count": 55,
      "outputs": []
    },
    {
      "cell_type": "code",
      "source": [
        "lri = []\n",
        "lossi = []\n",
        "stepi= []\n",
        "\n",
        "for i in range(200000):\n",
        "  ## mini batch\n",
        "  ix = torch.randint(0, Xtr.shape[0],(32,))\n",
        "  ## forward pass\n",
        "  emb = C[Xtr[ix]] # (32,3,2)\n",
        "  h = torch.tanh(emb.view(-1,30) @ W1 + b1) #(32, 100)\n",
        "  logits = h @ W2 + b2 # (32,27)\n",
        "  loss = F.cross_entropy(logits, Ytr[ix])\n",
        "  # print(loss.item())\n",
        "  ## backward pass\n",
        "  for p in parameters:\n",
        "    p.grad = None\n",
        "  loss.backward()\n",
        "\n",
        "  # # learning rate update\n",
        "  # lr = lrs[i]\n",
        "\n",
        "  # update\n",
        "  lr = 0.1 if i < 100000 else 0.01\n",
        "  for p in parameters:\n",
        "    p.data += -0.1 * p.grad\n",
        "\n",
        "  # track status\n",
        "  # lri.append(lre[i])\n",
        "  stepi.append(i)\n",
        "  lossi.append(loss.log10().item())\n",
        "\n",
        "print(loss.item())"
      ],
      "metadata": {
        "colab": {
          "base_uri": "https://localhost:8080/"
        },
        "id": "wlZkckPYUSVo",
        "outputId": "96c8de66-10b4-4ff8-e440-0179c22fe4dd"
      },
      "execution_count": 56,
      "outputs": [
        {
          "output_type": "stream",
          "name": "stdout",
          "text": [
            "2.294217586517334\n"
          ]
        }
      ]
    },
    {
      "cell_type": "code",
      "source": [
        "plt.plot(stepi, lossi)"
      ],
      "metadata": {
        "colab": {
          "base_uri": "https://localhost:8080/",
          "height": 447
        },
        "id": "XAxjDN6uUSSd",
        "outputId": "57f374a7-76bb-4d09-ebf2-6fc815138ffa"
      },
      "execution_count": 57,
      "outputs": [
        {
          "output_type": "execute_result",
          "data": {
            "text/plain": [
              "[<matplotlib.lines.Line2D at 0x7f8f9b655000>]"
            ]
          },
          "metadata": {},
          "execution_count": 57
        },
        {
          "output_type": "display_data",
          "data": {
            "text/plain": [
              "<Figure size 640x480 with 1 Axes>"
            ],
            "image/png": "[encoded data removed]"
          },
          "metadata": {}
        }
      ]
    },
    {
      "cell_type": "code",
      "source": [
        "emb = C[Xtr]\n",
        "h = torch.tanh(emb.view(-1,30) @ W1 + b1)\n",
        "logits = h @ W2 + b2\n",
        "loss = F.cross_entropy(logits, Ytr)\n",
        "loss"
      ],
      "metadata": {
        "id": "e5wVG-bAUSMt",
        "colab": {
          "base_uri": "https://localhost:8080/"
        },
        "outputId": "7b6ee072-8fd8-49ab-8729-737a1f81e39e"
      },
      "execution_count": 58,
      "outputs": [
        {
          "output_type": "execute_result",
          "data": {
            "text/plain": [
              "tensor(2.1388, grad_fn=<NllLossBackward0>)"
            ]
          },
          "metadata": {},
          "execution_count": 58
        }
      ]
    },
    {
      "cell_type": "code",
      "source": [
        "emb = C[Xdev]\n",
        "h = torch.tanh(emb.view(-1,30) @ W1 + b1)\n",
        "logits = h @ W2 + b2\n",
        "loss = F.cross_entropy(logits, Ydev)\n",
        "loss"
      ],
      "metadata": {
        "id": "nP_krBs-USKK",
        "colab": {
          "base_uri": "https://localhost:8080/"
        },
        "outputId": "04634433-5f95-44a9-ae46-b06b753e1d48"
      },
      "execution_count": 59,
      "outputs": [
        {
          "output_type": "execute_result",
          "data": {
            "text/plain": [
              "tensor(2.4829, grad_fn=<NllLossBackward0>)"
            ]
          },
          "metadata": {},
          "execution_count": 59
        }
      ]
    },
    {
      "cell_type": "code",
      "source": [
        "g = torch.Generator().manual_seed(2147483647+10)\n",
        "\n",
        "for _ in range(20):\n",
        "  out =[]\n",
        "  context = [0] * block_size\n",
        "  while True:\n",
        "    emb = C[torch.tensor([context])]\n",
        "    h = torch.tanh(emb.view(1,-1) @ W1 + b1)\n",
        "    logits = h @ W2 + b2\n",
        "    probs = F.softmax(logits, dim = 1)\n",
        "    ix = torch.multinomial(probs, num_samples = 1, generator=g).item()\n",
        "    context = context[1:] + [ix]\n",
        "    out.append(ix)\n",
        "    if ix == 0:\n",
        "      break\n",
        "  print(\"\".join(itos[i] for i in out))"
      ],
      "metadata": {
        "id": "uVqZs4omUSG7",
        "colab": {
          "base_uri": "https://localhost:8080/"
        },
        "outputId": "9c173209-0580-4c09-d1d0-301697764680"
      },
      "execution_count": 61,
      "outputs": [
        {
          "output_type": "stream",
          "name": "stdout",
          "text": [
            "mora.\n",
            "mayah.\n",
            "meel.\n",
            "mahlyla.\n",
            "temurstendrajo.\n",
            "adelyn.\n",
            "elingslynnelle.\n",
            "emmero.\n",
            "aaraylyn.\n",
            "malyra.\n",
            "nosaldorgiaira.\n",
            "sten.\n",
            "joselynn.\n",
            "gin.\n",
            "coluwa.\n",
            "geder.\n",
            "yaque.\n",
            "elsy.\n",
            "majouston.\n",
            "mahylina.\n"
          ]
        }
      ]
    },
    {
      "cell_type": "code",
      "source": [],
      "metadata": {
        "id": "nzRVi1RJUSEE"
      },
      "execution_count": 46,
      "outputs": []
    },
    {
      "cell_type": "code",
      "source": [],
      "metadata": {
        "id": "r-I68oLYUSBA"
      },
      "execution_count": 46,
      "outputs": []
    }
  ]
}