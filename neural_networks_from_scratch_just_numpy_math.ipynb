{
  "metadata": {
    "kernelspec": {
      "language": "python",
      "display_name": "Python 3",
      "name": "python3"
    },
    "language_info": {
      "name": "python",
      "version": "3.10.13",
      "mimetype": "text/x-python",
      "codemirror_mode": {
        "name": "ipython",
        "version": 3
      },
      "pygments_lexer": "ipython3",
      "nbconvert_exporter": "python",
      "file_extension": ".py"
    },
    "kaggle": {
      "accelerator": "none",
      "dataSources": [
        {
          "sourceId": 3004,
          "databundleVersionId": 861823,
          "sourceType": "competition"
        }
      ],
      "dockerImageVersionId": 30732,
      "isInternetEnabled": true,
      "language": "python",
      "sourceType": "notebook",
      "isGpuEnabled": false
    },
    "colab": {
      "name": "neural_networks_from_scratch_just_numpy_math",
      "provenance": [],
      "include_colab_link": true
    }
  },
  "nbformat_minor": 0,
  "nbformat": 4,
  "cells": [
    {
      "cell_type": "markdown",
      "metadata": {
        "id": "view-in-github",
        "colab_type": "text"
      },
      "source": [
        "<a href=\"https://colab.research.google.com/github/Tagore-7/Neural_Networks_AK/blob/main/neural_networks_from_scratch_just_numpy_math.ipynb\" target=\"_parent\"><img src=\"https://colab.research.google.com/assets/colab-badge.svg\" alt=\"Open In Colab\"/></a>"
      ]
    },
    {
      "source": [
        "\n",
        "# IMPORTANT: RUN THIS CELL IN ORDER TO IMPORT YOUR KAGGLE DATA SOURCES\n",
        "# TO THE CORRECT LOCATION (/kaggle/input) IN YOUR NOTEBOOK,\n",
        "# THEN FEEL FREE TO DELETE THIS CELL.\n",
        "# NOTE: THIS NOTEBOOK ENVIRONMENT DIFFERS FROM KAGGLE'S PYTHON\n",
        "# ENVIRONMENT SO THERE MAY BE MISSING LIBRARIES USED BY YOUR\n",
        "# NOTEBOOK.\n",
        "\n",
        "import os\n",
        "import sys\n",
        "from tempfile import NamedTemporaryFile\n",
        "from urllib.request import urlopen\n",
        "from urllib.parse import unquote, urlparse\n",
        "from urllib.error import HTTPError\n",
        "from zipfile import ZipFile\n",
        "import tarfile\n",
        "import shutil\n",
        "\n",
        "CHUNK_SIZE = 40960\n",
        "DATA_SOURCE_MAPPING = 'digit-recognizer:https%3A%2F%2Fstorage.googleapis.com%2Fkaggle-competitions-data%2Fkaggle-v2%2F3004%2F861823%2Fbundle%2Farchive.zip%3FX-Goog-Algorithm%3DGOOG4-RSA-SHA256%26X-Goog-Credential%3Dgcp-kaggle-com%2540kaggle-161607.iam.gserviceaccount.com%252F20240704%252Fauto%252Fstorage%252Fgoog4_request%26X-Goog-Date%3D20240704T040327Z%26X-Goog-Expires%3D259200%26X-Goog-SignedHeaders%3Dhost%26X-Goog-Signature%3D0c22ae69b32024e38a9305b334f09f2bc48eea9e82d90d5b40945cea7bd237376e9d010aaa9f4506467895b525de19fff363cd98ccc4491f40cc6d6fe3b13acd9b2b8645012f6da2048de07625a3dc27b06de246980b351f413faf3b122a7dcfe79d3fa675895ef235b23bee43025207af6720ff79cb0df0d5bad32c91dc8a95ef59fbfd025ef6f54265aabd660c986001cbdfc5df159d4eac6fcbaa534110a55c25e6167866718f7555224089fceef76ef6406766e8ccbe872e3a8d90f56405e7e57457ecbbfab8a7359bf844acb413d08b7240680e538c43a660775dba01792bcde57f346440899ca898e27b9a8895cf50c5f9e3feebf7cf1b2f23fa2b8efc'\n",
        "\n",
        "KAGGLE_INPUT_PATH='/kaggle/input'\n",
        "KAGGLE_WORKING_PATH='/kaggle/working'\n",
        "KAGGLE_SYMLINK='kaggle'\n",
        "\n",
        "!umount /kaggle/input/ 2> /dev/null\n",
        "shutil.rmtree('/kaggle/input', ignore_errors=True)\n",
        "os.makedirs(KAGGLE_INPUT_PATH, 0o777, exist_ok=True)\n",
        "os.makedirs(KAGGLE_WORKING_PATH, 0o777, exist_ok=True)\n",
        "\n",
        "try:\n",
        "  os.symlink(KAGGLE_INPUT_PATH, os.path.join(\"..\", 'input'), target_is_directory=True)\n",
        "except FileExistsError:\n",
        "  pass\n",
        "try:\n",
        "  os.symlink(KAGGLE_WORKING_PATH, os.path.join(\"..\", 'working'), target_is_directory=True)\n",
        "except FileExistsError:\n",
        "  pass\n",
        "\n",
        "for data_source_mapping in DATA_SOURCE_MAPPING.split(','):\n",
        "    directory, download_url_encoded = data_source_mapping.split(':')\n",
        "    download_url = unquote(download_url_encoded)\n",
        "    filename = urlparse(download_url).path\n",
        "    destination_path = os.path.join(KAGGLE_INPUT_PATH, directory)\n",
        "    try:\n",
        "        with urlopen(download_url) as fileres, NamedTemporaryFile() as tfile:\n",
        "            total_length = fileres.headers['content-length']\n",
        "            print(f'Downloading {directory}, {total_length} bytes compressed')\n",
        "            dl = 0\n",
        "            data = fileres.read(CHUNK_SIZE)\n",
        "            while len(data) > 0:\n",
        "                dl += len(data)\n",
        "                tfile.write(data)\n",
        "                done = int(50 * dl / int(total_length))\n",
        "                sys.stdout.write(f\"\\r[{'=' * done}{' ' * (50-done)}] {dl} bytes downloaded\")\n",
        "                sys.stdout.flush()\n",
        "                data = fileres.read(CHUNK_SIZE)\n",
        "            if filename.endswith('.zip'):\n",
        "              with ZipFile(tfile) as zfile:\n",
        "                zfile.extractall(destination_path)\n",
        "            else:\n",
        "              with tarfile.open(tfile.name) as tarfile:\n",
        "                tarfile.extractall(destination_path)\n",
        "            print(f'\\nDownloaded and uncompressed: {directory}')\n",
        "    except HTTPError as e:\n",
        "        print(f'Failed to load (likely expired) {download_url} to path {destination_path}')\n",
        "        continue\n",
        "    except OSError as e:\n",
        "        print(f'Failed to load {download_url} to path {destination_path}')\n",
        "        continue\n",
        "\n",
        "print('Data source import complete.')\n"
      ],
      "metadata": {
        "id": "1sCNBQrR6Vja"
      },
      "cell_type": "code",
      "outputs": [],
      "execution_count": null
    },
    {
      "cell_type": "code",
      "source": [
        "import numpy as np\n",
        "import pandas as pd\n",
        "from matplotlib import pyplot as plt"
      ],
      "metadata": {
        "execution": {
          "iopub.status.busy": "2024-07-04T03:46:26.69842Z",
          "iopub.execute_input": "2024-07-04T03:46:26.698829Z",
          "iopub.status.idle": "2024-07-04T03:46:26.704444Z",
          "shell.execute_reply.started": "2024-07-04T03:46:26.698796Z",
          "shell.execute_reply": "2024-07-04T03:46:26.703023Z"
        },
        "trusted": true,
        "id": "-f_lu3yp6Vjh"
      },
      "execution_count": null,
      "outputs": []
    },
    {
      "cell_type": "code",
      "source": [
        "data = pd.read_csv(\"/kaggle/input/digit-recognizer/train.csv\")"
      ],
      "metadata": {
        "execution": {
          "iopub.status.busy": "2024-07-04T03:46:26.710181Z",
          "iopub.execute_input": "2024-07-04T03:46:26.711255Z",
          "iopub.status.idle": "2024-07-04T03:46:30.05456Z",
          "shell.execute_reply.started": "2024-07-04T03:46:26.711184Z",
          "shell.execute_reply": "2024-07-04T03:46:30.052984Z"
        },
        "trusted": true,
        "id": "fq7Ivfk_6Vji"
      },
      "execution_count": null,
      "outputs": []
    },
    {
      "cell_type": "code",
      "source": [
        "data.head(10)"
      ],
      "metadata": {
        "execution": {
          "iopub.status.busy": "2024-07-04T03:46:30.056719Z",
          "iopub.execute_input": "2024-07-04T03:46:30.057071Z",
          "iopub.status.idle": "2024-07-04T03:46:30.082005Z",
          "shell.execute_reply.started": "2024-07-04T03:46:30.057039Z",
          "shell.execute_reply": "2024-07-04T03:46:30.080662Z"
        },
        "trusted": true,
        "id": "kY0FXOP76Vjj",
        "outputId": "2aee4d2c-c851-4fcf-a67d-b1f6ddea1335"
      },
      "execution_count": null,
      "outputs": [
        {
          "execution_count": 25,
          "output_type": "execute_result",
          "data": {
            "text/plain": "   label  pixel0  pixel1  pixel2  pixel3  pixel4  pixel5  pixel6  pixel7  \\\n0      1       0       0       0       0       0       0       0       0   \n1      0       0       0       0       0       0       0       0       0   \n2      1       0       0       0       0       0       0       0       0   \n3      4       0       0       0       0       0       0       0       0   \n4      0       0       0       0       0       0       0       0       0   \n5      0       0       0       0       0       0       0       0       0   \n6      7       0       0       0       0       0       0       0       0   \n7      3       0       0       0       0       0       0       0       0   \n8      5       0       0       0       0       0       0       0       0   \n9      3       0       0       0       0       0       0       0       0   \n\n   pixel8  ...  pixel774  pixel775  pixel776  pixel777  pixel778  pixel779  \\\n0       0  ...         0         0         0         0         0         0   \n1       0  ...         0         0         0         0         0         0   \n2       0  ...         0         0         0         0         0         0   \n3       0  ...         0         0         0         0         0         0   \n4       0  ...         0         0         0         0         0         0   \n5       0  ...         0         0         0         0         0         0   \n6       0  ...         0         0         0         0         0         0   \n7       0  ...         0         0         0         0         0         0   \n8       0  ...         0         0         0         0         0         0   \n9       0  ...         0         0         0         0         0         0   \n\n   pixel780  pixel781  pixel782  pixel783  \n0         0         0         0         0  \n1         0         0         0         0  \n2         0         0         0         0  \n3         0         0         0         0  \n4         0         0         0         0  \n5         0         0         0         0  \n6         0         0         0         0  \n7         0         0         0         0  \n8         0         0         0         0  \n9         0         0         0         0  \n\n[10 rows x 785 columns]",
            "text/html": "<div>\n<style scoped>\n    .dataframe tbody tr th:only-of-type {\n        vertical-align: middle;\n    }\n\n    .dataframe tbody tr th {\n        vertical-align: top;\n    }\n\n    .dataframe thead th {\n        text-align: right;\n    }\n</style>\n<table border=\"1\" class=\"dataframe\">\n  <thead>\n    <tr style=\"text-align: right;\">\n      <th></th>\n      <th>label</th>\n      <th>pixel0</th>\n      <th>pixel1</th>\n      <th>pixel2</th>\n      <th>pixel3</th>\n      <th>pixel4</th>\n      <th>pixel5</th>\n      <th>pixel6</th>\n      <th>pixel7</th>\n      <th>pixel8</th>\n      <th>...</th>\n      <th>pixel774</th>\n      <th>pixel775</th>\n      <th>pixel776</th>\n      <th>pixel777</th>\n      <th>pixel778</th>\n      <th>pixel779</th>\n      <th>pixel780</th>\n      <th>pixel781</th>\n      <th>pixel782</th>\n      <th>pixel783</th>\n    </tr>\n  </thead>\n  <tbody>\n    <tr>\n      <th>0</th>\n      <td>1</td>\n      <td>0</td>\n      <td>0</td>\n      <td>0</td>\n      <td>0</td>\n      <td>0</td>\n      <td>0</td>\n      <td>0</td>\n      <td>0</td>\n      <td>0</td>\n      <td>...</td>\n      <td>0</td>\n      <td>0</td>\n      <td>0</td>\n      <td>0</td>\n      <td>0</td>\n      <td>0</td>\n      <td>0</td>\n      <td>0</td>\n      <td>0</td>\n      <td>0</td>\n    </tr>\n    <tr>\n      <th>1</th>\n      <td>0</td>\n      <td>0</td>\n      <td>0</td>\n      <td>0</td>\n      <td>0</td>\n      <td>0</td>\n      <td>0</td>\n      <td>0</td>\n      <td>0</td>\n      <td>0</td>\n      <td>...</td>\n      <td>0</td>\n      <td>0</td>\n      <td>0</td>\n      <td>0</td>\n      <td>0</td>\n      <td>0</td>\n      <td>0</td>\n      <td>0</td>\n      <td>0</td>\n      <td>0</td>\n    </tr>\n    <tr>\n      <th>2</th>\n      <td>1</td>\n      <td>0</td>\n      <td>0</td>\n      <td>0</td>\n      <td>0</td>\n      <td>0</td>\n      <td>0</td>\n      <td>0</td>\n      <td>0</td>\n      <td>0</td>\n      <td>...</td>\n      <td>0</td>\n      <td>0</td>\n      <td>0</td>\n      <td>0</td>\n      <td>0</td>\n      <td>0</td>\n      <td>0</td>\n      <td>0</td>\n      <td>0</td>\n      <td>0</td>\n    </tr>\n    <tr>\n      <th>3</th>\n      <td>4</td>\n      <td>0</td>\n      <td>0</td>\n      <td>0</td>\n      <td>0</td>\n      <td>0</td>\n      <td>0</td>\n      <td>0</td>\n      <td>0</td>\n      <td>0</td>\n      <td>...</td>\n      <td>0</td>\n      <td>0</td>\n      <td>0</td>\n      <td>0</td>\n      <td>0</td>\n      <td>0</td>\n      <td>0</td>\n      <td>0</td>\n      <td>0</td>\n      <td>0</td>\n    </tr>\n    <tr>\n      <th>4</th>\n      <td>0</td>\n      <td>0</td>\n      <td>0</td>\n      <td>0</td>\n      <td>0</td>\n      <td>0</td>\n      <td>0</td>\n      <td>0</td>\n      <td>0</td>\n      <td>0</td>\n      <td>...</td>\n      <td>0</td>\n      <td>0</td>\n      <td>0</td>\n      <td>0</td>\n      <td>0</td>\n      <td>0</td>\n      <td>0</td>\n      <td>0</td>\n      <td>0</td>\n      <td>0</td>\n    </tr>\n    <tr>\n      <th>5</th>\n      <td>0</td>\n      <td>0</td>\n      <td>0</td>\n      <td>0</td>\n      <td>0</td>\n      <td>0</td>\n      <td>0</td>\n      <td>0</td>\n      <td>0</td>\n      <td>0</td>\n      <td>...</td>\n      <td>0</td>\n      <td>0</td>\n      <td>0</td>\n      <td>0</td>\n      <td>0</td>\n      <td>0</td>\n      <td>0</td>\n      <td>0</td>\n      <td>0</td>\n      <td>0</td>\n    </tr>\n    <tr>\n      <th>6</th>\n      <td>7</td>\n      <td>0</td>\n      <td>0</td>\n      <td>0</td>\n      <td>0</td>\n      <td>0</td>\n      <td>0</td>\n      <td>0</td>\n      <td>0</td>\n      <td>0</td>\n      <td>...</td>\n      <td>0</td>\n      <td>0</td>\n      <td>0</td>\n      <td>0</td>\n      <td>0</td>\n      <td>0</td>\n      <td>0</td>\n      <td>0</td>\n      <td>0</td>\n      <td>0</td>\n    </tr>\n    <tr>\n      <th>7</th>\n      <td>3</td>\n      <td>0</td>\n      <td>0</td>\n      <td>0</td>\n      <td>0</td>\n      <td>0</td>\n      <td>0</td>\n      <td>0</td>\n      <td>0</td>\n      <td>0</td>\n      <td>...</td>\n      <td>0</td>\n      <td>0</td>\n      <td>0</td>\n      <td>0</td>\n      <td>0</td>\n      <td>0</td>\n      <td>0</td>\n      <td>0</td>\n      <td>0</td>\n      <td>0</td>\n    </tr>\n    <tr>\n      <th>8</th>\n      <td>5</td>\n      <td>0</td>\n      <td>0</td>\n      <td>0</td>\n      <td>0</td>\n      <td>0</td>\n      <td>0</td>\n      <td>0</td>\n      <td>0</td>\n      <td>0</td>\n      <td>...</td>\n      <td>0</td>\n      <td>0</td>\n      <td>0</td>\n      <td>0</td>\n      <td>0</td>\n      <td>0</td>\n      <td>0</td>\n      <td>0</td>\n      <td>0</td>\n      <td>0</td>\n    </tr>\n    <tr>\n      <th>9</th>\n      <td>3</td>\n      <td>0</td>\n      <td>0</td>\n      <td>0</td>\n      <td>0</td>\n      <td>0</td>\n      <td>0</td>\n      <td>0</td>\n      <td>0</td>\n      <td>0</td>\n      <td>...</td>\n      <td>0</td>\n      <td>0</td>\n      <td>0</td>\n      <td>0</td>\n      <td>0</td>\n      <td>0</td>\n      <td>0</td>\n      <td>0</td>\n      <td>0</td>\n      <td>0</td>\n    </tr>\n  </tbody>\n</table>\n<p>10 rows × 785 columns</p>\n</div>"
          },
          "metadata": {}
        }
      ]
    },
    {
      "cell_type": "code",
      "source": [
        "data = np.array(data)\n",
        "# print(data)\n",
        "m, n = data.shape\n",
        "# print(m ,n )\n",
        "np.random.shuffle(data)\n",
        "\n",
        "data_dev = data[:1000].T\n",
        "# print(data_dev)\n",
        "Y_dev = data_dev[0]\n",
        "# print(Y_dev)\n",
        "X_dev = data_dev[1:n]\n",
        "X_dev = X_dev / 255.\n",
        "# print(X_dev)\n",
        "\n",
        "data_train = data[1000:m].T\n",
        "# print(data_train)\n",
        "Y_train = data_train[0]\n",
        "# print(Y_train)\n",
        "X_train = data_train[1:n]\n",
        "X_train = X_train / 255.\n",
        "# print(X_train)\n",
        "\n",
        "_, m_train = X_train.shape\n"
      ],
      "metadata": {
        "execution": {
          "iopub.status.busy": "2024-07-04T03:46:30.08379Z",
          "iopub.execute_input": "2024-07-04T03:46:30.084156Z",
          "iopub.status.idle": "2024-07-04T03:46:30.959218Z",
          "shell.execute_reply.started": "2024-07-04T03:46:30.084118Z",
          "shell.execute_reply": "2024-07-04T03:46:30.95779Z"
        },
        "trusted": true,
        "id": "TCLeRz_g6Vjk"
      },
      "execution_count": null,
      "outputs": []
    },
    {
      "cell_type": "code",
      "source": [
        "def init_params():\n",
        "    W1 = np.random.rand(10, 784) - 0.5\n",
        "    b1 = np.random.rand(10, 1) - 0.5\n",
        "    W2 = np.random.rand(10, 10) - 0.5\n",
        "    b2 = np.random.rand(10, 1) - 0.5\n",
        "    return W1, b1, W2, b2\n",
        "\n",
        "def ReLU(Z):\n",
        "    return np.maximum(Z, 0)\n",
        "\n",
        "def softmax(Z):\n",
        "    A =  np.exp(Z) / sum(np.exp(Z))\n",
        "    return A\n",
        "\n",
        "def forward_prop(W1, b1, W2, b2, X):\n",
        "    Z1 = W1.dot(X) + b1\n",
        "    A1 = ReLU(Z1)\n",
        "    Z2 = W2.dot(A1) + b2\n",
        "    A2 = softmax(Z2)\n",
        "    return Z1, A1, Z2, A2\n",
        "\n",
        "def one_hot(Y):\n",
        "    one_hot_Y = np.zeros((Y.size, Y.max() + 1))\n",
        "    one_hot_Y[np.arange(Y.size), Y] = 1\n",
        "    one_hot_Y = one_hot_Y.T\n",
        "    return one_hot_Y\n",
        "\n",
        "def deriv_ReLU(Z):\n",
        "    return Z > 0\n",
        "\n",
        "\n",
        "def backward_prop(Z1, A1, Z2, A2,W1, W2, X, Y):\n",
        "    one_hot_Y = one_hot(Y)\n",
        "    dZ2 = A2 - one_hot_Y\n",
        "    dW2 = 1 / m  * dZ2.dot(A1.T)\n",
        "    db2 = 1 / m * np.sum(dZ2)\n",
        "    dZ1 = W2.T.dot(dZ2) * deriv_ReLU(Z1)\n",
        "    dW1 = 1 / m * dZ1.dot(X.T)\n",
        "    db1 = 1 / m * np.sum(dZ1)\n",
        "    return dW1, db1, dW2, db2\n",
        "\n",
        "def update_params(W1, b1, W2, b2, dW1, db1, dW2, db2, alpha):\n",
        "    W1 = W1 - alpha * dW1\n",
        "    W2 = W2 - alpha * dW2\n",
        "    b1 = b1 - alpha * db1\n",
        "    b2 = b2 - alpha * db2\n",
        "    return W1, b1, W2, b2\n"
      ],
      "metadata": {
        "execution": {
          "iopub.status.busy": "2024-07-04T03:46:30.962052Z",
          "iopub.execute_input": "2024-07-04T03:46:30.962445Z",
          "iopub.status.idle": "2024-07-04T03:46:30.978064Z",
          "shell.execute_reply.started": "2024-07-04T03:46:30.962412Z",
          "shell.execute_reply": "2024-07-04T03:46:30.976866Z"
        },
        "trusted": true,
        "id": "7FMxqrzl6Vjl"
      },
      "execution_count": null,
      "outputs": []
    },
    {
      "cell_type": "code",
      "source": [
        "def get_predictions(A2):\n",
        "    return np.argmax(A2, 0)\n",
        "\n",
        "def get_accuracy(predictions, Y):\n",
        "    print(predictions, Y)\n",
        "    return np.sum(predictions == Y) / Y.size\n",
        "\n",
        "def gradient_descent(X, Y, alpha, iterations):\n",
        "    W1, b1, W2, b2 = init_params()\n",
        "    for i in range(iterations):\n",
        "        Z1, A1, Z2, A2 = forward_prop(W1, b1, W2, b2, X)\n",
        "        dW1, db1, dW2, db2 = backward_prop(Z1, A1, Z2, A2, W1, W2, X, Y)\n",
        "        W1, b1, W2, b2 = update_params(W1, b1, W2, b2, dW1, db1, dW2, db2, alpha)\n",
        "        if i % 10 == 0:\n",
        "            print(\"Iteration: \", i)\n",
        "            predictions = get_predictions(A2)\n",
        "            print(get_accuracy(predictions, Y))\n",
        "    return W1, b1, W2, b2"
      ],
      "metadata": {
        "execution": {
          "iopub.status.busy": "2024-07-04T03:46:30.979834Z",
          "iopub.execute_input": "2024-07-04T03:46:30.98073Z",
          "iopub.status.idle": "2024-07-04T03:46:30.995698Z",
          "shell.execute_reply.started": "2024-07-04T03:46:30.980686Z",
          "shell.execute_reply": "2024-07-04T03:46:30.994437Z"
        },
        "trusted": true,
        "id": "AMQw6OSj6Vjm"
      },
      "execution_count": null,
      "outputs": []
    },
    {
      "cell_type": "code",
      "source": [
        "W1, b1, W2, b2 = gradient_descent(X_train, Y_train, 0.10, 500)"
      ],
      "metadata": {
        "execution": {
          "iopub.status.busy": "2024-07-04T03:46:30.998339Z",
          "iopub.execute_input": "2024-07-04T03:46:30.998719Z",
          "iopub.status.idle": "2024-07-04T03:47:31.329175Z",
          "shell.execute_reply.started": "2024-07-04T03:46:30.998687Z",
          "shell.execute_reply": "2024-07-04T03:47:31.327366Z"
        },
        "trusted": true,
        "id": "DijVr0Ch6Vjn",
        "outputId": "d80b2aac-c689-4274-f001-e3ca3c1199c5"
      },
      "execution_count": null,
      "outputs": [
        {
          "name": "stdout",
          "text": "Iteration:  0\n[8 8 0 ... 0 1 8] [5 5 0 ... 6 0 3]\n0.155\nIteration:  10\n[6 8 0 ... 0 1 0] [5 5 0 ... 6 0 3]\n0.20682926829268292\nIteration:  20\n[6 8 5 ... 0 1 4] [5 5 0 ... 6 0 3]\n0.28704878048780486\nIteration:  30\n[6 8 5 ... 0 1 4] [5 5 0 ... 6 0 3]\n0.34980487804878047\nIteration:  40\n[6 8 5 ... 0 1 4] [5 5 0 ... 6 0 3]\n0.4044146341463415\nIteration:  50\n[6 8 5 ... 5 1 4] [5 5 0 ... 6 0 3]\n0.45090243902439026\nIteration:  60\n[6 8 5 ... 5 2 4] [5 5 0 ... 6 0 3]\n0.49278048780487804\nIteration:  70\n[6 5 0 ... 8 2 8] [5 5 0 ... 6 0 3]\n0.529\nIteration:  80\n[6 5 0 ... 8 2 8] [5 5 0 ... 6 0 3]\n0.5638048780487804\nIteration:  90\n[6 5 0 ... 8 2 8] [5 5 0 ... 6 0 3]\n0.5971951219512195\nIteration:  100\n[8 5 0 ... 6 2 8] [5 5 0 ... 6 0 3]\n0.6276829268292683\nIteration:  110\n[5 5 0 ... 6 2 8] [5 5 0 ... 6 0 3]\n0.6548780487804878\nIteration:  120\n[5 5 0 ... 6 2 8] [5 5 0 ... 6 0 3]\n0.6787073170731708\nIteration:  130\n[5 5 0 ... 6 2 8] [5 5 0 ... 6 0 3]\n0.6989268292682926\nIteration:  140\n[5 5 0 ... 6 2 8] [5 5 0 ... 6 0 3]\n0.7166585365853658\nIteration:  150\n[5 5 0 ... 6 2 8] [5 5 0 ... 6 0 3]\n0.7308780487804878\nIteration:  160\n[5 5 0 ... 6 2 8] [5 5 0 ... 6 0 3]\n0.7419756097560976\nIteration:  170\n[5 5 0 ... 6 2 8] [5 5 0 ... 6 0 3]\n0.7520243902439024\nIteration:  180\n[5 5 0 ... 6 2 8] [5 5 0 ... 6 0 3]\n0.7626341463414634\nIteration:  190\n[5 5 0 ... 6 2 8] [5 5 0 ... 6 0 3]\n0.7712926829268293\nIteration:  200\n[5 5 0 ... 6 2 8] [5 5 0 ... 6 0 3]\n0.7789756097560976\nIteration:  210\n[5 5 0 ... 6 2 8] [5 5 0 ... 6 0 3]\n0.7861219512195122\nIteration:  220\n[5 5 0 ... 6 2 8] [5 5 0 ... 6 0 3]\n0.7927560975609756\nIteration:  230\n[5 5 0 ... 6 2 8] [5 5 0 ... 6 0 3]\n0.7988780487804878\nIteration:  240\n[5 5 0 ... 6 2 8] [5 5 0 ... 6 0 3]\n0.8038780487804879\nIteration:  250\n[5 5 0 ... 6 2 8] [5 5 0 ... 6 0 3]\n0.8079024390243903\nIteration:  260\n[5 5 0 ... 6 2 8] [5 5 0 ... 6 0 3]\n0.8117804878048781\nIteration:  270\n[5 5 0 ... 6 2 8] [5 5 0 ... 6 0 3]\n0.8152926829268292\nIteration:  280\n[5 5 0 ... 6 2 8] [5 5 0 ... 6 0 3]\n0.8190731707317073\nIteration:  290\n[5 5 0 ... 6 2 8] [5 5 0 ... 6 0 3]\n0.8224878048780487\nIteration:  300\n[5 5 0 ... 6 2 8] [5 5 0 ... 6 0 3]\n0.8259512195121951\nIteration:  310\n[5 5 0 ... 6 2 3] [5 5 0 ... 6 0 3]\n0.8291219512195122\nIteration:  320\n[5 5 0 ... 6 2 3] [5 5 0 ... 6 0 3]\n0.8318292682926829\nIteration:  330\n[5 5 0 ... 6 2 3] [5 5 0 ... 6 0 3]\n0.834390243902439\nIteration:  340\n[5 5 0 ... 6 2 3] [5 5 0 ... 6 0 3]\n0.8369268292682926\nIteration:  350\n[5 5 0 ... 6 2 3] [5 5 0 ... 6 0 3]\n0.8388780487804878\nIteration:  360\n[5 5 0 ... 6 2 3] [5 5 0 ... 6 0 3]\n0.8404634146341463\nIteration:  370\n[5 5 0 ... 6 2 3] [5 5 0 ... 6 0 3]\n0.8421463414634146\nIteration:  380\n[5 5 0 ... 6 2 3] [5 5 0 ... 6 0 3]\n0.8440975609756097\nIteration:  390\n[5 5 0 ... 6 2 3] [5 5 0 ... 6 0 3]\n0.8458292682926829\nIteration:  400\n[5 5 0 ... 6 2 3] [5 5 0 ... 6 0 3]\n0.8474146341463414\nIteration:  410\n[5 5 0 ... 6 2 3] [5 5 0 ... 6 0 3]\n0.8488048780487805\nIteration:  420\n[5 5 0 ... 6 2 3] [5 5 0 ... 6 0 3]\n0.8504146341463414\nIteration:  430\n[5 5 0 ... 6 2 3] [5 5 0 ... 6 0 3]\n0.8516585365853658\nIteration:  440\n[5 5 0 ... 6 2 3] [5 5 0 ... 6 0 3]\n0.8528536585365853\nIteration:  450\n[5 5 0 ... 6 2 3] [5 5 0 ... 6 0 3]\n0.854\nIteration:  460\n[5 5 0 ... 6 2 3] [5 5 0 ... 6 0 3]\n0.8549756097560975\nIteration:  470\n[5 5 0 ... 6 2 3] [5 5 0 ... 6 0 3]\n0.8562195121951219\nIteration:  480\n[5 5 0 ... 6 2 3] [5 5 0 ... 6 0 3]\n0.8576829268292683\nIteration:  490\n[5 5 0 ... 6 2 3] [5 5 0 ... 6 0 3]\n0.8589268292682927\n",
          "output_type": "stream"
        }
      ]
    },
    {
      "cell_type": "code",
      "source": [
        "def make_predictions(X, W1, b1, W2, b2):\n",
        "    _, _, _, A2 = forward_prop(W1, b1, W2, b2, X)\n",
        "    predictions = get_predictions(A2)\n",
        "    return predictions\n",
        "\n",
        "def test_predictions(index, W1, b1, W2, b2):\n",
        "    current_image = X_train[:, index, None]\n",
        "    prediction  = make_predictions(X_train[:, index, None], W1, b1, W2, b2)\n",
        "    label = Y_train[index]\n",
        "    print(\"Prediction: \", prediction)\n",
        "    print(\"Label: \", label)\n",
        "\n",
        "    current_image = current_image.reshape((28 , 28 )) * 255\n",
        "    plt.gray()\n",
        "    plt.imshow(current_image, interpolation = 'nearest')\n",
        "    plt.show()"
      ],
      "metadata": {
        "execution": {
          "iopub.status.busy": "2024-07-04T03:59:42.07888Z",
          "iopub.execute_input": "2024-07-04T03:59:42.079822Z",
          "iopub.status.idle": "2024-07-04T03:59:42.088597Z",
          "shell.execute_reply.started": "2024-07-04T03:59:42.079782Z",
          "shell.execute_reply": "2024-07-04T03:59:42.087317Z"
        },
        "trusted": true,
        "id": "IVxUEe_D6Vjn"
      },
      "execution_count": null,
      "outputs": []
    },
    {
      "cell_type": "code",
      "source": [
        "test_predictions(0, W1, b1, W2, b2)"
      ],
      "metadata": {
        "execution": {
          "iopub.status.busy": "2024-07-04T03:59:42.86519Z",
          "iopub.execute_input": "2024-07-04T03:59:42.865626Z",
          "iopub.status.idle": "2024-07-04T03:59:43.069368Z",
          "shell.execute_reply.started": "2024-07-04T03:59:42.865593Z",
          "shell.execute_reply": "2024-07-04T03:59:43.068194Z"
        },
        "trusted": true,
        "id": "-Sp5a1B46Vjo",
        "outputId": "0e8fc7cd-0ad3-47e9-d037-12a3596e5bf4"
      },
      "execution_count": null,
      "outputs": [
        {
          "name": "stdout",
          "text": "Prediction:  [5]\nLabel:  5\n",
          "output_type": "stream"
        },
        {
          "output_type": "display_data",
          "data": {
            "text/plain": "<Figure size 640x480 with 1 Axes>",
            "image/png": "[encoded data removed]"
          },
          "metadata": {}
        }
      ]
    },
    {
      "cell_type": "code",
      "source": [
        "dev_predictions = make_predictions(X_dev, W1, b1, W2, b2)\n",
        "get_accuracy(dev_predictions, Y_dev)"
      ],
      "metadata": {
        "execution": {
          "iopub.status.busy": "2024-07-04T04:00:41.509843Z",
          "iopub.execute_input": "2024-07-04T04:00:41.510279Z",
          "iopub.status.idle": "2024-07-04T04:00:41.544885Z",
          "shell.execute_reply.started": "2024-07-04T04:00:41.510243Z",
          "shell.execute_reply": "2024-07-04T04:00:41.543743Z"
        },
        "trusted": true,
        "id": "KTI5ygN96Vjo",
        "outputId": "a6b262f0-575b-4396-d5e4-75443c3ea16c"
      },
      "execution_count": null,
      "outputs": [
        {
          "name": "stdout",
          "text": "[1 9 8 8 5 0 5 9 3 8 7 1 5 6 2 9 8 6 0 5 1 7 1 9 0 9 7 7 8 5 5 1 0 3 9 1 6\n 5 4 8 0 4 7 6 7 3 4 9 6 9 6 7 6 4 9 9 1 4 6 8 6 1 6 8 1 0 5 1 4 3 4 7 1 4\n 6 7 2 7 7 4 1 5 8 4 3 1 0 7 0 1 3 6 0 7 0 2 9 5 9 5 7 9 1 7 3 3 3 8 7 6 8\n 2 5 0 0 3 9 8 9 8 5 1 0 4 4 1 6 3 3 3 0 7 7 3 0 8 5 2 2 9 4 4 1 9 5 8 6 5\n 0 8 9 2 1 6 5 9 6 3 4 1 3 7 1 7 4 6 9 3 6 3 7 9 4 3 5 8 3 9 0 5 7 0 3 1 7\n 3 7 1 5 3 4 6 9 3 7 7 1 7 7 1 8 3 9 8 2 8 0 4 8 3 4 5 0 7 4 3 5 4 5 7 9 7\n 2 6 4 7 0 4 1 8 9 2 2 8 9 0 5 5 7 8 3 9 2 3 1 8 2 3 1 6 5 1 2 3 6 4 2 9 1\n 3 7 7 5 7 0 8 5 7 7 7 1 2 6 9 5 1 8 2 0 1 5 2 7 3 6 1 0 5 7 3 8 3 8 8 6 1\n 7 0 9 9 1 5 1 7 2 8 2 5 5 0 9 3 4 3 8 1 2 8 4 2 1 1 7 1 0 9 7 0 7 4 7 0 5\n 6 3 8 1 1 3 6 2 8 6 6 2 1 8 7 6 2 1 5 7 2 4 1 8 5 5 5 2 4 1 5 9 5 4 5 7 1\n 7 1 2 3 4 4 2 7 1 8 5 2 3 5 2 8 5 3 2 1 3 3 3 9 9 0 4 5 3 9 5 5 7 2 1 8 7\n 4 1 4 0 9 2 1 5 6 9 1 6 8 3 6 6 3 2 3 3 2 7 9 2 3 4 4 8 5 2 7 3 8 6 7 4 8\n 4 0 9 1 3 8 1 7 7 2 1 9 5 0 7 1 3 5 4 9 3 1 9 4 9 1 3 6 5 7 8 5 1 2 5 0 4\n 6 5 8 5 5 2 4 6 7 4 4 3 0 0 7 8 9 2 4 7 5 0 4 8 2 7 7 7 3 9 2 7 1 3 1 8 6\n 3 6 1 1 2 6 4 7 5 1 5 3 1 5 1 1 0 0 3 3 5 5 3 4 9 9 6 5 2 1 2 5 3 1 4 7 3\n 4 0 4 2 3 1 9 0 0 4 4 5 2 9 3 3 0 5 0 0 7 6 2 5 4 5 3 1 8 6 4 5 3 6 1 0 1\n 0 0 8 2 7 9 7 5 0 6 2 3 8 7 5 8 2 0 7 6 7 9 4 1 4 9 0 4 2 7 2 1 3 1 2 2 3\n 7 7 9 4 4 5 0 4 4 7 6 1 9 7 6 6 1 7 6 9 6 9 5 1 9 0 8 1 1 0 5 4 2 7 1 4 2\n 0 3 5 7 2 3 6 9 4 9 9 0 0 3 9 7 2 4 0 4 7 3 8 4 4 8 0 4 8 2 0 1 0 8 1 0 8\n 9 0 5 5 0 3 6 3 6 7 3 1 6 1 2 9 9 4 4 5 9 5 1 4 9 6 5 0 4 6 1 0 0 6 6 4 5\n 3 7 8 7 4 1 0 1 2 6 1 4 5 0 2 8 5 3 5 0 9 0 8 9 2 9 8 4 3 2 3 7 7 7 5 0 3\n 9 0 6 1 6 2 5 8 8 7 4 2 0 4 6 7 4 1 6 2 4 3 5 9 9 7 4 8 9 2 3 6 3 7 1 7 3\n 4 1 1 9 0 4 0 2 7 1 2 8 2 4 2 4 6 0 6 4 8 2 8 9 9 3 5 5 4 5 9 7 8 2 0 8 1\n 1 4 2 5 8 8 2 1 1 6 6 0 9 8 8 6 6 7 8 9 5 3 8 3 3 7 6 8 6 6 8 3 1 0 9 1 1\n 1 6 4 4 1 9 1 9 2 6 8 7 4 8 5 7 8 3 1 4 1 0 0 5 1 2 3 0 2 0 7 3 5 8 9 0 4\n 6 6 4 6 8 3 6 8 2 1 2 4 3 5 4 1 1 1 1 5 9 2 1 7 4 7 8 9 1 4 9 8 3 8 9 2 5\n 9 7 3 3 8 2 6 3 8 1 1 6 2 0 4 2 4 5 6 5 3 0 1 1 5 7 7 6 0 6 3 9 8 2 1 7 2\n 2] [1 7 8 8 5 0 5 7 3 8 7 1 2 2 2 9 8 6 0 5 1 7 1 9 0 9 9 7 8 5 5 8 0 3 9 1 6\n 5 4 8 0 4 7 6 7 5 4 9 6 9 4 7 4 4 5 9 1 4 6 8 6 1 6 8 1 0 3 1 4 3 4 7 1 4\n 5 7 2 7 7 4 1 5 8 4 3 1 0 7 0 1 3 6 0 7 0 2 4 5 9 3 7 9 1 7 3 8 3 8 7 6 8\n 5 5 0 0 8 9 3 9 8 8 1 0 2 4 1 6 1 3 3 0 7 7 3 0 8 5 2 5 9 4 4 1 9 5 8 6 5\n 0 8 8 2 5 6 5 9 6 3 4 1 3 7 1 7 4 6 9 3 6 3 7 9 4 3 8 8 3 9 0 5 7 0 3 1 7\n 3 7 1 6 3 4 6 9 3 7 7 1 7 3 1 8 3 9 8 2 8 0 9 8 3 4 5 0 7 4 3 5 4 5 7 9 7\n 2 6 4 7 0 4 1 8 9 3 2 8 9 0 5 5 7 8 3 9 2 3 1 8 2 3 1 6 5 1 2 8 6 4 2 9 1\n 8 7 7 5 7 0 4 9 7 7 7 1 2 6 9 8 1 8 2 0 1 8 2 7 3 6 8 0 5 7 3 8 3 8 8 6 1\n 7 0 4 9 1 6 5 7 2 5 2 5 5 0 9 1 4 3 8 1 2 3 4 2 1 1 7 1 0 9 7 0 7 2 7 0 5\n 6 3 8 1 1 5 6 2 8 6 2 2 1 8 7 0 2 1 5 7 9 3 8 8 5 5 9 2 4 1 5 9 6 9 5 7 8\n 7 1 2 3 4 4 6 7 1 8 5 0 3 5 2 3 5 3 2 1 3 5 3 7 9 0 4 5 3 9 3 5 7 2 1 8 7\n 4 1 4 4 9 2 1 5 6 9 1 6 8 3 6 4 3 2 3 3 2 7 9 2 3 4 4 8 5 2 7 3 1 6 7 4 8\n 9 0 9 1 0 5 1 7 7 2 1 5 0 0 7 1 3 5 4 9 3 1 9 4 9 1 3 6 5 7 8 5 1 2 5 0 4\n 6 5 8 5 5 2 4 6 7 4 4 3 0 0 7 5 9 2 4 7 9 0 4 8 2 0 7 7 3 3 2 7 1 3 1 8 6\n 2 6 1 1 6 6 8 9 5 1 5 3 1 5 1 1 0 0 3 0 8 5 3 4 9 9 6 5 6 1 2 5 3 1 4 7 3\n 4 0 4 2 3 1 9 0 0 4 4 5 2 9 3 3 0 5 0 0 9 6 2 5 4 5 3 1 8 6 9 5 3 6 1 0 1\n 0 0 8 2 7 9 7 8 0 6 2 3 8 7 5 8 2 0 7 6 7 9 5 1 4 9 0 4 2 7 4 5 3 1 2 2 3\n 7 7 9 4 5 5 0 4 4 7 6 1 9 7 6 6 1 7 6 9 6 9 5 1 3 0 8 1 2 0 5 4 2 7 1 4 3\n 0 5 5 7 2 2 6 9 4 9 9 0 0 3 9 7 2 4 0 4 7 2 8 4 4 8 0 4 8 3 0 8 0 8 1 0 8\n 9 0 5 5 0 3 6 5 6 3 3 1 6 1 2 9 9 4 4 0 3 5 8 4 9 6 5 0 4 6 1 0 0 3 6 4 8\n 3 7 1 7 9 1 0 1 9 6 1 4 5 0 2 8 5 3 1 5 9 0 8 9 2 7 8 4 8 2 3 9 7 7 5 0 3\n 9 0 6 1 6 2 5 5 8 7 4 2 0 4 6 4 4 1 6 2 4 3 5 4 9 2 4 8 9 6 3 6 3 7 1 7 3\n 4 8 1 9 0 4 0 5 7 1 2 8 8 7 2 4 6 0 6 4 8 3 3 9 9 3 0 3 4 4 9 7 8 2 0 5 1\n 1 4 2 5 6 8 2 1 1 6 6 0 9 8 3 6 6 7 8 9 5 8 8 3 3 7 6 8 6 6 5 3 1 0 7 1 1\n 1 6 4 4 1 9 1 7 2 6 8 7 4 1 6 7 8 8 1 4 1 0 0 5 1 2 3 0 2 0 7 3 1 8 9 0 4\n 6 6 4 6 8 3 8 1 7 1 2 6 8 5 2 1 1 1 1 5 9 2 1 7 4 7 8 9 1 4 3 1 3 8 9 7 0\n 9 7 3 3 8 2 6 3 8 1 8 6 2 0 4 2 4 5 6 5 3 0 4 1 5 7 5 6 0 6 3 9 1 2 8 9 7\n 2]\n",
          "output_type": "stream"
        },
        {
          "execution_count": 36,
          "output_type": "execute_result",
          "data": {
            "text/plain": "0.85"
          },
          "metadata": {}
        }
      ]
    },
    {
      "cell_type": "code",
      "source": [],
      "metadata": {
        "id": "nuQy6rI96Vjp"
      },
      "execution_count": null,
      "outputs": []
    }
  ]
}